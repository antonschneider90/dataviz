from google.colab import auth
auth.authenticate_user()
import pandas as pd

project_id = 'london-start'

london_data = pd.io.gbq.read_gbq('''
  SELECT latitude, longitude, duration
  FROM `bigquery-public-data.london_bicycles.cycle_stations` s
  LEFT JOIN `bigquery-public-data.london_bicycles.cycle_hire` h ON h.start_station_id = s.id
  WHERE latitude > 0
  ORDER by RAND ()
  LIMIT 5000''', project_id=project_id)
london_data.head()
